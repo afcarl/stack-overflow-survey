{
 "cells": [
  {
   "cell_type": "markdown",
   "metadata": {},
   "source": [
    "# Visualizing How Developers Rate Their Own Programming Skills\n",
    "\n",
    "by Max Woolf (@minimaxir)\n",
    "\n",
    "*This notebook is licensed under the MIT License. If you use the code or data visualization designs contained within this notebook, it would be greatly appreciated if proper attribution is given back to this notebook and/or myself. Thanks! :)*\n",
    "\n",
    "**Note, code in this notebook is uglier than usual due to unexpected shennanigans being required to get the code running. I may add more comments in the future.**"
   ]
  },
  {
   "cell_type": "code",
   "execution_count": 1,
   "metadata": {
    "collapsed": false
   },
   "outputs": [
    {
     "name": "stderr",
     "output_type": "stream",
     "text": [
      "\n",
      "Attaching package: ‘dplyr’\n",
      "\n",
      "The following objects are masked from ‘package:stats’:\n",
      "\n",
      "    filter, lag\n",
      "\n",
      "The following objects are masked from ‘package:base’:\n",
      "\n",
      "    intersect, setdiff, setequal, union\n",
      "\n",
      "Registering fonts with R\n",
      "\n",
      "Attaching package: ‘scales’\n",
      "\n",
      "The following objects are masked from ‘package:readr’:\n",
      "\n",
      "    col_factor, col_numeric\n",
      "\n",
      "\n",
      "Attaching package: ‘plotly’\n",
      "\n",
      "The following object is masked _by_ ‘.GlobalEnv’:\n",
      "\n",
      "    subplot\n",
      "\n",
      "The following object is masked from ‘package:ggplot2’:\n",
      "\n",
      "    last_plot\n",
      "\n",
      "The following object is masked from ‘package:graphics’:\n",
      "\n",
      "    layout\n",
      "\n"
     ]
    },
    {
     "data": {
      "text/plain": [
       "R version 3.3.0 (2016-05-03)\n",
       "Platform: x86_64-apple-darwin13.4.0 (64-bit)\n",
       "Running under: OS X 10.11.5 (El Capitan)\n",
       "\n",
       "locale:\n",
       "[1] en_US.UTF-8/en_US.UTF-8/en_US.UTF-8/C/en_US.UTF-8/en_US.UTF-8\n",
       "\n",
       "attached base packages:\n",
       "[1] grid      stats     graphics  grDevices utils     datasets  methods  \n",
       "[8] base     \n",
       "\n",
       "other attached packages:\n",
       " [1] tidyr_0.4.1        htmlwidgets_0.6    plotly_3.6.0       stringr_1.0.0     \n",
       " [5] digest_0.6.9       RColorBrewer_1.1-2 scales_0.4.0       extrafont_0.17    \n",
       " [9] ggplot2_2.1.0      dplyr_0.4.3        readr_0.2.2       \n",
       "\n",
       "loaded via a namespace (and not attached):\n",
       " [1] Rcpp_0.12.4      Rttf2pt1_1.3.3   magrittr_1.5     munsell_0.4.3   \n",
       " [5] uuid_0.1-2       colorspace_1.2-6 R6_2.1.2         httr_1.1.0      \n",
       " [9] plyr_1.8.3       tools_3.3.0      parallel_3.3.0   gtable_0.2.0    \n",
       "[13] DBI_0.4          extrafontdb_1.0  htmltools_0.3.5  assertthat_0.1  \n",
       "[17] gridExtra_2.2.1  IRdisplay_0.3    repr_0.4         viridis_0.3.4   \n",
       "[21] base64enc_0.1-3  IRkernel_0.5     evaluate_0.9     rzmq_0.7.7      \n",
       "[25] stringi_1.0-1    jsonlite_0.9.19 "
      ]
     },
     "execution_count": 1,
     "metadata": {},
     "output_type": "execute_result"
    }
   ],
   "source": [
    "options(warn=1)\n",
    "\n",
    "source(\"Rstart.R\")\n",
    "\n",
    "library(plotly)\n",
    "library(htmlwidgets)\n",
    "library(tidyr)\n",
    "\n",
    "sessionInfo()\n",
    "\n",
    "n_bootstrap_resamples <- 10000"
   ]
  },
  {
   "cell_type": "code",
   "execution_count": 47,
   "metadata": {
    "collapsed": false,
    "scrolled": false
   },
   "outputs": [
    {
     "name": "stdout",
     "output_type": "stream",
     "text": [
      "Source: local data frame [6 x 66]\n",
      "\n",
      "     NA collector     country    un_subregion      so_region\n",
      "  (int)     (chr)       (chr)           (chr)          (chr)\n",
      "1  4637  Facebook Afghanistan   Southern Asia   Central Asia\n",
      "2 21378  Facebook Afghanistan   Southern Asia   Central Asia\n",
      "3 31743  Facebook Afghanistan   Southern Asia   Central Asia\n",
      "4 51301  Facebook Afghanistan   Southern Asia   Central Asia\n",
      "5 24487  Facebook     Albania Southern Europe Eastern Europe\n",
      "6 28844  Facebook     Albania Southern Europe Eastern Europe\n",
      "Variables not shown: age_range (chr), age_midpoint (dbl), gender (chr),\n",
      "  self_identification (chr), occupation (chr), occupation_group (chr),\n",
      "  experience_range (chr), experience_midpoint (dbl), salary_range (chr),\n",
      "  salary_midpoint (dbl), big_mac_index (dbl), tech_do (chr), tech_want (chr),\n",
      "  aliens (chr), programming_ability (dbl), employment_status (chr), industry\n",
      "  (chr), company_size_range (chr), team_size_range (chr), women_on_team (chr),\n",
      "  remote (chr), job_satisfaction (chr), job_discovery (chr), dev_environment\n",
      "  (chr), commit_frequency (chr), hobby (chr), dogs_vs_cats (chr), desktop_os\n",
      "  (chr), unit_testing (chr), rep_range (chr), visit_frequency (chr),\n",
      "  why_learn_new_tech (chr), education (chr), open_to_new_job (chr),\n",
      "  new_job_value (chr), job_search_annoyance (chr), interview_likelihood (chr),\n",
      "  how_to_improve_interview_process (chr), star_wars_vs_star_trek (chr),\n",
      "  agree_tech (chr), agree_notice (chr), agree_problemsolving (chr),\n",
      "  agree_diversity (chr), agree_adblocker (chr), agree_alcohol (chr),\n",
      "  agree_loveboss (chr), agree_nightcode (chr), agree_legacy (chr), agree_mars\n",
      "  (chr), important_variety (chr), important_control (chr), important_sameend\n",
      "  (chr), important_newtech (chr), important_buildnew (chr),\n",
      "  important_buildexisting (chr), important_promotion (chr),\n",
      "  important_companymission (chr), important_wfh (chr), important_ownoffice\n",
      "  (chr), developer_challenges (chr), why_stack_overflow (chr)\n",
      "[1] 46982\n"
     ]
    }
   ],
   "source": [
    "file_path <- \"/Users/maxwoolf/Downloads/2016 Stack Overflow Survey Results/2016 Stack Overflow Survey Responses.csv\"\n",
    "\n",
    "df <- read_csv(file_path) %>% filter(programming_ability != \"\", programming_ability != \" \")\n",
    "\n",
    "df %>% head() %>% print()\n",
    "df %>% nrow() %>% print()"
   ]
  },
  {
   "cell_type": "markdown",
   "metadata": {},
   "source": [
    "## Summary Column Chart for Distribution"
   ]
  },
  {
   "cell_type": "code",
   "execution_count": 3,
   "metadata": {
    "collapsed": false
   },
   "outputs": [
    {
     "name": "stdout",
     "output_type": "stream",
     "text": [
      "Source: local data frame [10 x 2]\n",
      "\n",
      "   programming_ability count\n",
      "                 (dbl) (int)\n",
      "1                    1   263\n",
      "2                    2   450\n",
      "3                    3  1195\n",
      "4                    4  1955\n",
      "5                    5  3873\n",
      "6                    6  6355\n",
      "7                    7 12901\n",
      "8                    8 11287\n",
      "9                    9  4380\n",
      "10                  10  4323\n",
      "[1] 7.094547\n"
     ]
    }
   ],
   "source": [
    "df_summary <- df %>% group_by(programming_ability) %>% summarize(count=n())\n",
    "df_summary %>% print(n=100)\n",
    "\n",
    "programming_ability_avg = mean(df$programming_ability)\n",
    "print(programming_ability_avg)"
   ]
  },
  {
   "cell_type": "code",
   "execution_count": 4,
   "metadata": {
    "collapsed": false
   },
   "outputs": [],
   "source": [
    "plot <- ggplot(mapping=aes(x=factor(programming_ability), y=count), data=df_summary) +\n",
    "            geom_bar(stat=\"identity\") +\n",
    "            fte_theme() +\n",
    "            scale_y_continuous(labels=comma, breaks=pretty_breaks(6)) +\n",
    "            #theme(axis.title.y=element_blank()) +\n",
    "            labs(title=\"Distribution of Self-Ratings of Programming Ability By Developers\", x=\"How would you rate your programming ability? (1-10)\")\n",
    "\n",
    "max_save(plot, \"so-programming-0\", \"Stack Overflow\", h=2.5)"
   ]
  },
  {
   "cell_type": "markdown",
   "metadata": {},
   "source": [
    "![](so-programming-0.png)"
   ]
  },
  {
   "cell_type": "markdown",
   "metadata": {},
   "source": [
    "## Gender\n",
    "\n",
    "**Important Note**: The gender charts are not included in the final post since I have concerns that they are hitting [Simpson's Paradox](https://en.wikipedia.org/wiki/Simpson%27s_paradox), as per the official analysis, the distribution of other attributes for female developers is much different than male developers.\n",
    "\n",
    "I am leaving the charts here for posterity while I drill down subgroups, but **do not repost them elsewhere as fact**."
   ]
  },
  {
   "cell_type": "code",
   "execution_count": 5,
   "metadata": {
    "collapsed": false,
    "scrolled": true
   },
   "outputs": [
    {
     "name": "stdout",
     "output_type": "stream",
     "text": [
      "Source: local data frame [2 x 5]\n",
      "\n",
      "  gender count med_prog avg_prog     sd_mean\n",
      "   (chr) (int)    (dbl)    (dbl)       (dbl)\n",
      "1 Female  2631        7 6.312429 0.039927559\n",
      "2   Male 43434        7 7.146061 0.008285955\n"
     ]
    }
   ],
   "source": [
    "programming_ability <- df %>% filter(gender == \"Male\" | gender == \"Female\") %>%\n",
    "                group_by(gender) %>%\n",
    "                summarize(count=n(), med_prog = median(programming_ability), avg_prog=mean(programming_ability), sd_mean=sd(programming_ability)/sqrt(count))\n",
    "\n",
    "programming_ability %>% print(n=100)"
   ]
  },
  {
   "cell_type": "markdown",
   "metadata": {},
   "source": [
    "Build resampling. Get the average programming ability rating from a resampled dataframe grouped by a specified variable."
   ]
  },
  {
   "cell_type": "code",
   "execution_count": 6,
   "metadata": {
    "collapsed": false,
    "scrolled": true
   },
   "outputs": [
    {
     "name": "stdout",
     "output_type": "stream",
     "text": [
      "Source: local data frame [2 x 2]\n",
      "\n",
      "   group avg_prog\n",
      "   (chr)    (dbl)\n",
      "1 Female 6.291619\n",
      "2   Male 7.146242\n"
     ]
    }
   ],
   "source": [
    "resample_means <- function(df, group_var) {\n",
    "    df_new <- df %>% sample_frac(replace=T)\n",
    "    \n",
    "    summary <- df_new %>%\n",
    "                select(group = matches(group_var), programming_ability) %>%\n",
    "                group_by(group) %>%\n",
    "                summarize(avg_prog=mean(programming_ability))\n",
    "    \n",
    "    return(summary)\n",
    "}\n",
    "\n",
    "set.seed(42)\n",
    "print(resample_means(df %>% filter(gender == \"Male\" | gender == \"Female\"), \"gender\"))"
   ]
  },
  {
   "cell_type": "markdown",
   "metadata": {},
   "source": [
    "Automate resampling for *n* amount of resampling. Store the results of all the resamples in a dataframe."
   ]
  },
  {
   "cell_type": "code",
   "execution_count": 7,
   "metadata": {
    "collapsed": false,
    "scrolled": true
   },
   "outputs": [
    {
     "name": "stdout",
     "output_type": "stream",
     "text": [
      "Source: local data frame [8 x 2]\n",
      "\n",
      "   group avg_prog\n",
      "   (chr)    (dbl)\n",
      "1 Female 6.329767\n",
      "2   Male 7.155634\n",
      "3 Female 6.373745\n",
      "4   Male 7.151466\n",
      "5 Female 6.266843\n",
      "6   Male 7.148815\n",
      "7 Female 6.310424\n",
      "8   Male 7.152603\n"
     ]
    }
   ],
   "source": [
    "resample_df <- function(df, group_var, n) {\n",
    "\n",
    "num_levels <- df %>% select(matches(group_var)) %>% unlist() %>% unique() %>% length()\n",
    "\n",
    "df_resample_summary <- data.frame(group = character(n*num_levels), avg_prog = numeric(n*num_levels), stringsAsFactors = FALSE)\n",
    "\n",
    "for (i in seq(1,n*num_levels - 1, by = num_levels)) {\n",
    "    df_resample_summary[c(i:(i + num_levels - 1)),] <- resample_means(df, group_var)\n",
    "}\n",
    "\n",
    "return(tbl_df(df_resample_summary))\n",
    "    \n",
    "}\n",
    "\n",
    "set.seed(4)\n",
    "print(resample_df(df %>% filter(gender == \"Male\" | gender == \"Female\"), \"gender\", 4))"
   ]
  },
  {
   "cell_type": "code",
   "execution_count": 8,
   "metadata": {
    "collapsed": false,
    "scrolled": false
   },
   "outputs": [
    {
     "data": {
      "text/plain": [
       "   user  system elapsed \n",
       " 10.818   1.286  12.183 "
      ]
     },
     "execution_count": 8,
     "metadata": {},
     "output_type": "execute_result"
    },
    {
     "name": "stdout",
     "output_type": "stream",
     "text": [
      "Source: local data frame [6 x 2]\n",
      "\n",
      "   group avg_prog\n",
      "   (chr)    (dbl)\n",
      "1 Female 6.347000\n",
      "2   Male 7.148403\n",
      "3 Female 6.298564\n",
      "4   Male 7.145236\n",
      "5 Female 6.354876\n",
      "6   Male 7.148548\n",
      "[1] 200\n"
     ]
    }
   ],
   "source": [
    "system.time( df_boot <- resample_df(df %>% filter(gender == \"Male\" | gender == \"Female\"), \"gender\", 100))\n",
    "\n",
    "print(head(df_boot))\n",
    "print(nrow(df_boot)) # expect 100 * 2"
   ]
  },
  {
   "cell_type": "markdown",
   "metadata": {},
   "source": [
    "Further aggregate the data frame of all the averages to get the percent quantiles to construct a confidence interval."
   ]
  },
  {
   "cell_type": "code",
   "execution_count": 9,
   "metadata": {
    "collapsed": false,
    "scrolled": true
   },
   "outputs": [
    {
     "name": "stdout",
     "output_type": "stream",
     "text": [
      "Source: local data frame [6 x 2]\n",
      "\n",
      "   group avg_prog\n",
      "   (chr)    (dbl)\n",
      "1 Female 6.332717\n",
      "2   Male 7.135599\n",
      "3 Female 6.325000\n",
      "4   Male 7.143120\n",
      "5 Female 6.327767\n",
      "6   Male 7.148011\n",
      "Source: local data frame [2 x 4]\n",
      "\n",
      "  gender avg_prog_avg avg_prog_low_ci avg_prog_high_ci\n",
      "   (chr)        (dbl)           (dbl)            (dbl)\n",
      "1 Female     6.312411        6.233961         6.389937\n",
      "2   Male     7.146060        7.129527         7.162202\n"
     ]
    }
   ],
   "source": [
    "bootstrap_df <- function(df, group_var, n) {\n",
    "    df_boot <- resample_df(df, group_var, n)\n",
    "    \n",
    "    print(df_boot %>% head())\n",
    "    \n",
    "    boot <- df_boot %>%\n",
    "            select(group, avg_prog) %>%\n",
    "            group_by(group) %>%\n",
    "            summarize(avg_prog_avg=mean(avg_prog),\n",
    "                        avg_prog_low_ci = quantile(avg_prog, 0.025),\n",
    "                        avg_prog_high_ci = quantile(avg_prog, 0.975))\n",
    "    \n",
    "    names(boot)[1] <- group_var\n",
    "    \n",
    "    return(boot)\n",
    "}\n",
    "\n",
    "gender_boot <- bootstrap_df(df %>% filter(gender == \"Male\" | gender == \"Female\"), \"gender\", \n",
    "n_bootstrap_resamples)\n",
    "gender_boot %>% print()"
   ]
  },
  {
   "cell_type": "code",
   "execution_count": 10,
   "metadata": {
    "collapsed": false,
    "scrolled": true
   },
   "outputs": [
    {
     "name": "stdout",
     "output_type": "stream",
     "text": [
      "Source: local data frame [20 x 4]\n",
      "Groups: gender [2]\n",
      "\n",
      "   gender programming_ability count        norm\n",
      "    (chr)               (dbl) (int)       (dbl)\n",
      "1  Female                   1    55 0.020904599\n",
      "2  Female                   2    80 0.030406689\n",
      "3  Female                   3   146 0.055492208\n",
      "4  Female                   4   194 0.073736222\n",
      "5  Female                   5   330 0.125427594\n",
      "6  Female                   6   443 0.168377043\n",
      "7  Female                   7   654 0.248574686\n",
      "8  Female                   8   437 0.166096541\n",
      "9  Female                   9   123 0.046750285\n",
      "10 Female                  10   169 0.064234132\n",
      "11   Male                   1   184 0.004236313\n",
      "12   Male                   2   354 0.008150297\n",
      "13   Male                   3  1016 0.023391813\n",
      "14   Male                   4  1720 0.039600313\n",
      "15   Male                   5  3440 0.079200626\n",
      "16   Male                   6  5801 0.133558963\n",
      "17   Male                   7 12040 0.277202192\n",
      "18   Male                   8 10667 0.245591012\n",
      "19   Male                   9  4180 0.096237970\n",
      "20   Male                  10  4032 0.092830501\n"
     ]
    }
   ],
   "source": [
    "color_m <- \"#2980b9\"\n",
    "color_f <- \"#27ae60\"\n",
    "\n",
    "df_norm <- df %>% filter(gender == \"Male\" | gender == \"Female\") %>%\n",
    "                group_by(gender, programming_ability) %>%\n",
    "                summarize(count=n()) %>%\n",
    "                group_by(gender) %>%\n",
    "                mutate(norm = count/sum(count))\n",
    "\n",
    "df_norm %>% print()\n",
    "\n",
    "plot <- ggplot(df_norm, aes(x=programming_ability, y=norm, fill=gender, color=gender)) +\n",
    "            geom_area(alpha=0.5, stat=\"identity\", position=\"identity\") +\n",
    "            fte_theme() +\n",
    "            scale_x_continuous(breaks=c(1:10)) +\n",
    "            #geom_point(mapping=aes(x=avg_prog_avg, y=0.01, fill=gender), data=gender_boot, show.legend=F, size=0.7, shape=21, color=\"white\", stroke=0.1) +\n",
    "            #geom_errorbarh(mapping=aes(x=avg_prog_avg, xmin=avg_prog_low_ci, xmax=avg_prog_high_ci, y=0.01), data=gender_boot, show.legend=F, color=\"black\", height=0.01, size=0.05) +\n",
    "            theme(legend.title = element_blank(), legend.position=\"top\", legend.direction=\"horizontal\", legend.key.width=unit(0.5, \"cm\"), legend.key.height=unit(0.25, \"cm\"), legend.margin=unit(0,\"cm\"), axis.title.y=element_blank(), axis.text.y=element_blank()) +\n",
    "            scale_fill_manual(labels=c(\"Female\", \"Male\"), values=c(color_f,color_m)) +\n",
    "            scale_color_manual(labels=c(\"Female\", \"Male\"), values=c(color_f,color_m)) +\n",
    "            labs(title=\"Normalized Distribution of Self-Assessed Programming Ability\", x=\"How would you rate your programming ability? (1-10)\")\n",
    "\n",
    "max_save(plot, \"so-programming-1\", \"Stack Overflow\")"
   ]
  },
  {
   "cell_type": "markdown",
   "metadata": {},
   "source": [
    "![](so-programming-1.png)"
   ]
  },
  {
   "cell_type": "code",
   "execution_count": 46,
   "metadata": {
    "collapsed": false
   },
   "outputs": [
    {
     "name": "stderr",
     "output_type": "stream",
     "text": [
      "Joining by: \"gender\"\n"
     ]
    }
   ],
   "source": [
    "gender_boot_reorder <- gender_boot %>% left_join(programming_ability) %>% mutate(gender = factor(gender))\n",
    "\n",
    "plot <- ggplot(mapping=aes(x=factor(gender), y=programming_ability), data=df %>% filter(gender == \"Male\" | gender == \"Female\")) +\n",
    "            geom_violin(aes(fill=gender, color=gender), alpha=0.25, size=0.10, scale=\"width\") +\n",
    "            geom_errorbar(data=gender_boot_reorder, mapping=aes(y=avg_prog, ymin=avg_prog_low_ci, ymax=avg_prog_high_ci) , show.legend=F, color=\"black\", size=0.25, width=0.1) +\n",
    "            geom_point(data=gender_boot_reorder, mapping=aes(x=gender, y=avg_prog, color=gender), stat=\"identity\", position=\"identity\", shape=21, fill=\"white\") +\n",
    "            fte_theme() +\n",
    "            coord_flip() +\n",
    "            scale_fill_manual(labels=c(\"Female\", \"Male\"), values=c(color_f,color_m)) +\n",
    "            scale_color_manual(labels=c(\"Female\", \"Male\"), values=c(color_f,color_m)) +\n",
    "            scale_y_continuous(breaks=c(1:10), limits=c(1,10)) +\n",
    "            theme(axis.title.y=element_blank(), plot.title=element_text(hjust=1)) +\n",
    "            labs(title=\"Avg. Self-Rating Programming Ability By Developers, by Gender\", y=\"How would you rate your programming ability? (1-10)\")\n",
    "\n",
    "max_save(plot, \"so-programming-1-1\", \"Stack Overflow\", h=2.5)"
   ]
  },
  {
   "cell_type": "markdown",
   "metadata": {},
   "source": [
    "![](so-programming-1-1.png)"
   ]
  },
  {
   "cell_type": "markdown",
   "metadata": {},
   "source": [
    "## Geographic Region\n",
    "\n",
    "I did not include these charts in the final post since they are not insightful, particularly since the confidence intervals are wide."
   ]
  },
  {
   "cell_type": "code",
   "execution_count": 12,
   "metadata": {
    "collapsed": false,
    "scrolled": true
   },
   "outputs": [
    {
     "name": "stdout",
     "output_type": "stream",
     "text": [
      "Source: local data frame [76 x 5]\n",
      "\n",
      "                country count med_prog avg_prog    sd_mean\n",
      "                  (chr) (int)    (dbl)    (dbl)      (dbl)\n",
      "1                Israel   378        8 7.859788 0.08197254\n",
      "2               Lebanon    33        8 7.666667 0.32176910\n",
      "3                Mexico   393        8 7.575064 0.08216461\n",
      "4                Brazil   906        8 7.451435 0.05670407\n",
      "5             Venezuela    40        7 7.450000 0.28408648\n",
      "6          South Africa   421        8 7.425178 0.08116660\n",
      "7              Slovenia   149        8 7.375839 0.12615385\n",
      "8             Macedonia    33        7 7.363636 0.38143018\n",
      "9                 Spain   896        7 7.341518 0.04763322\n",
      "10            Australia   953        7 7.338930 0.05478994\n",
      "11 United Arab Emirates    55        7 7.327273 0.20930307\n",
      "12        United States 11755        7 7.324883 0.01644331\n",
      "13          Netherlands   985        7 7.324873 0.04714236\n",
      "14              Austria   400        7 7.315000 0.08415547\n",
      "15            Argentina   305        7 7.304918 0.09476383\n",
      "16              Uruguay    40        7 7.300000 0.22417942\n",
      "17              Romania   762        7 7.292651 0.06223143\n",
      "18              Finland   367        8 7.264305 0.08677204\n",
      "19               Canada  1711        7 7.264173 0.04075882\n",
      "20              Denmark   515        7 7.254369 0.07778617\n",
      "21          New Zealand   301        7 7.232558 0.10003991\n",
      "22          Switzerland   485        7 7.226804 0.07212294\n",
      "23                Italy   959        7 7.218978 0.04552428\n",
      "24              Georgia    33        8 7.212121 0.41913867\n",
      "25             Colombia    84        7 7.202381 0.15032930\n",
      "26       United Kingdom  3872        7 7.188275 0.02766531\n",
      "27               Serbia   150        7 7.140000 0.15106779\n",
      "28               France  1300        7 7.135385 0.04513504\n",
      "29               Norway   311        7 7.131833 0.09986999\n",
      "30               Sweden  1160        7 7.086207 0.04742153\n",
      "31   Ireland {Republic}   354        7 7.081921 0.09099182\n",
      "32              Germany  3263        7 7.051793 0.02937775\n",
      "33               Latvia    63        7 7.015873 0.21644153\n",
      "34              Belgium   449        7 7.011136 0.07303422\n",
      "35               Turkey   358        7 7.002793 0.10011484\n",
      "36             Portugal   403        7 6.992556 0.08516267\n",
      "37                Chile    96        7 6.958333 0.18550350\n",
      "38               Greece   341        7 6.950147 0.09562414\n",
      "39                Egypt    97        7 6.917526 0.17443459\n",
      "40            Singapore   157        7 6.917197 0.15414195\n",
      "41          Philippines   166        7 6.891566 0.16236300\n",
      "42              Hungary   190        7 6.889474 0.12495379\n",
      "43                Kenya    49        7 6.857143 0.28272243\n",
      "44            Lithuania   134        7 6.850746 0.16153076\n",
      "45            Indonesia   140        7 6.835714 0.14287127\n",
      "46                Japan   130        7 6.830769 0.15255270\n",
      "47             Slovakia   105        7 6.819048 0.16171072\n",
      "48              Morocco    47        7 6.808511 0.23684305\n",
      "49             Pakistan   272        7 6.779412 0.11605238\n",
      "50               Jordan    34        7 6.764706 0.35338653\n",
      "51   Bosnia Herzegovina    46        7 6.760870 0.28178997\n",
      "52       Czech Republic   309        7 6.757282 0.10182610\n",
      "53   Dominican Republic    73        7 6.726027 0.22005627\n",
      "54                 Iran   300        7 6.710000 0.11222737\n",
      "55              Tunisia    44        7 6.704545 0.27698838\n",
      "56               Poland  1592        7 6.684673 0.04358559\n",
      "57             Bulgaria   201        7 6.671642 0.13367447\n",
      "58              Croatia   129        7 6.666667 0.16447198\n",
      "59              Belarus   144        7 6.659722 0.14523084\n",
      "60                 Peru    43        7 6.651163 0.28604246\n",
      "61                India  3386        7 6.631719 0.02975222\n",
      "62             Thailand    58        7 6.620690 0.26009862\n",
      "63              Vietnam   111        7 6.558559 0.17580268\n",
      "64              Ukraine   714        7 6.533613 0.07001672\n",
      "65              Estonia    73        7 6.506849 0.20563160\n",
      "66            Sri Lanka   100        7 6.500000 0.20175993\n",
      "67            Hong Kong    83        7 6.493976 0.22044587\n",
      "68   Russian Federation  1171        7 6.441503 0.05534582\n",
      "69                China   231        7 6.346320 0.12871941\n",
      "70             Malaysia   111        7 6.306306 0.20628646\n",
      "71              Nigeria    44        6 6.272727 0.36403255\n",
      "72               Taiwan    52        7 6.211538 0.27916129\n",
      "73           Bangladesh   143        6 6.188811 0.15846422\n",
      "74           Kazakhstan    33        7 6.121212 0.29438423\n",
      "75                Nepal    59        6 6.118644 0.23573845\n",
      "76          Korea South   164        6 5.713415 0.15491480\n"
     ]
    }
   ],
   "source": [
    "df_country <- df %>% filter(country != \"\") %>%\n",
    "                group_by(country) %>%\n",
    "                summarize(count=n(), med_prog = median(programming_ability), avg_prog=mean(programming_ability), sd_mean=sd(programming_ability)/sqrt(count)) %>%\n",
    "                filter(count >= 30) %>%\n",
    "                arrange(desc(avg_prog))\n",
    "\n",
    "df_country %>% print(n=100)"
   ]
  },
  {
   "cell_type": "markdown",
   "metadata": {},
   "source": [
    "Get the confidence interval for the averages of each grouping value. Must ensure that disallowed values are removed."
   ]
  },
  {
   "cell_type": "code",
   "execution_count": 13,
   "metadata": {
    "collapsed": false,
    "scrolled": true
   },
   "outputs": [
    {
     "name": "stdout",
     "output_type": "stream",
     "text": [
      "Source: local data frame [6 x 2]\n",
      "\n",
      "       group avg_prog\n",
      "       (chr)    (dbl)\n",
      "1  Argentina 7.457045\n",
      "2  Australia 7.307773\n",
      "3    Austria 7.306667\n",
      "4 Bangladesh 5.875969\n",
      "5    Belarus 6.963768\n",
      "6    Belgium 6.903720\n",
      "Source: local data frame [76 x 4]\n",
      "\n",
      "                country avg_prog_avg avg_prog_low_ci avg_prog_high_ci\n",
      "                  (chr)        (dbl)           (dbl)            (dbl)\n",
      "1                Israel     7.860319        7.696628         8.020942\n",
      "2               Lebanon     7.661322        7.000000         8.243243\n",
      "3                Mexico     7.576121        7.417715         7.734118\n",
      "4                Brazil     7.451549        7.340203         7.562914\n",
      "5             Venezuela     7.450125        6.891892         8.000000\n",
      "6          South Africa     7.425297        7.263390         7.583965\n",
      "7              Slovenia     7.376679        7.124182         7.615952\n",
      "8             Macedonia     7.360346        6.606061         8.083333\n",
      "9                 Spain     7.342208        7.249428         7.435558\n",
      "10            Australia     7.338277        7.232804         7.445074\n",
      "11 United Arab Emirates     7.329527        6.901912         7.727273\n",
      "12          Netherlands     7.325034        7.231706         7.416337\n",
      "13        United States     7.324892        7.292772         7.357137\n",
      "14              Austria     7.314804        7.146463         7.480525\n",
      "15            Argentina     7.303693        7.109431         7.484955\n",
      "16              Uruguay     7.300806        6.862069         7.738095\n",
      "17              Romania     7.291857        7.168223         7.414482\n",
      "18              Finland     7.265448        7.092731         7.432585\n",
      "19               Canada     7.264741        7.185033         7.342645\n",
      "20              Denmark     7.253574        7.100367         7.403255\n",
      "21          New Zealand     7.233377        7.028301         7.430044\n",
      "22          Switzerland     7.226704        7.082971         7.368322\n",
      "23                Italy     7.217691        7.128336         7.305896\n",
      "24              Georgia     7.214353        6.357143         8.000000\n",
      "25             Colombia     7.203052        6.907872         7.504950\n",
      "26       United Kingdom     7.188064        7.135085         7.242550\n",
      "27               Serbia     7.140000        6.837205         7.430466\n",
      "28               France     7.135210        7.045197         7.223788\n",
      "29               Norway     7.131196        6.932253         7.328175\n",
      "30               Sweden     7.085837        6.993479         7.179078\n",
      "31   Ireland {Republic}     7.082829        6.904255         7.260119\n",
      "32              Germany     7.052010        6.994409         7.109020\n",
      "33               Latvia     7.015738        6.565200         7.435484\n",
      "34              Belgium     7.011792        6.868102         7.152994\n",
      "35               Turkey     7.003591        6.807388         7.200565\n",
      "36             Portugal     6.992089        6.830373         7.154253\n",
      "37                Chile     6.960779        6.602148         7.323536\n",
      "38               Greece     6.951619        6.764171         7.135648\n",
      "39                Egypt     6.919281        6.572912         7.264734\n",
      "40            Singapore     6.917363        6.608987         7.210207\n",
      "41          Philippines     6.891021        6.569795         7.207320\n",
      "42              Hungary     6.887689        6.637350         7.136623\n",
      "43                Kenya     6.859155        6.292683         7.407407\n",
      "44            Lithuania     6.846558        6.522495         7.152546\n",
      "45            Indonesia     6.837105        6.553330         7.117647\n",
      "46                Japan     6.831393        6.531458         7.130769\n",
      "47             Slovakia     6.820160        6.504585         7.134615\n",
      "48              Morocco     6.812366        6.340897         7.276596\n",
      "49             Pakistan     6.778329        6.541814         7.003559\n",
      "50               Jordan     6.762744        6.032258         7.421103\n",
      "51   Bosnia Herzegovina     6.758004        6.196714         7.296296\n",
      "52       Czech Republic     6.756795        6.552727         6.962269\n",
      "53   Dominican Republic     6.727966        6.288453         7.154963\n",
      "54                 Iran     6.711157        6.489281         6.923810\n",
      "55              Tunisia     6.709187        6.171429         7.244444\n",
      "56               Poland     6.685347        6.599997         6.770013\n",
      "57             Bulgaria     6.670897        6.407583         6.933673\n",
      "58              Croatia     6.670887        6.338980         7.000000\n",
      "59              Belarus     6.657525        6.371409         6.942446\n",
      "60                 Peru     6.652931        6.069767         7.190476\n",
      "61                India     6.631604        6.574035         6.688922\n",
      "62             Thailand     6.618742        6.104167         7.114754\n",
      "63              Vietnam     6.560373        6.212093         6.898451\n",
      "64              Ukraine     6.534229        6.395894         6.670719\n",
      "65              Estonia     6.508308        6.098361         6.907697\n",
      "66            Sri Lanka     6.499514        6.106786         6.886624\n",
      "67            Hong Kong     6.494044        6.051948         6.920000\n",
      "68   Russian Federation     6.441846        6.334454         6.549367\n",
      "69                China     6.347588        6.089793         6.603377\n",
      "70             Malaysia     6.303593        5.883929         6.700855\n",
      "71              Nigeria     6.273243        5.540000         6.978734\n",
      "72               Taiwan     6.212952        5.652174         6.740019\n",
      "73           Bangladesh     6.188263        5.873999         6.489799\n",
      "74           Kazakhstan     6.121633        5.515152         6.685759\n",
      "75                Nepal     6.116740        5.661009         6.568193\n",
      "76          Korea South     5.711701        5.405710         6.024100\n"
     ]
    }
   ],
   "source": [
    "valid_countries <- df_country %>% select(country) %>% unlist() %>% as.character()\n",
    "\n",
    "country_boot <- bootstrap_df(df %>% filter(country %in% valid_countries), \"country\", n_bootstrap_resamples)\n",
    "country_boot %>% arrange(desc(avg_prog_avg)) %>% print(n=100)"
   ]
  },
  {
   "cell_type": "markdown",
   "metadata": {},
   "source": [
    "We have two dataframes: the original dataframe with all the data, and the bootstrap dataframe which has the per-group quantiles.\n",
    "\n",
    "In the case of country data:\n",
    "\n",
    "* Reorder factors of the grouping variable of the bootstrap dataframe to correct order.\n",
    "* Reorder factors of the grouping variable of the original dataframe *to the same order*. (may have to filter original df)\n",
    "* Plot aestetics in correct order for proper layering: `violin, errorbar, point`"
   ]
  },
  {
   "cell_type": "code",
   "execution_count": 41,
   "metadata": {
    "collapsed": false
   },
   "outputs": [
    {
     "name": "stderr",
     "output_type": "stream",
     "text": [
      "Joining by: \"country\"\n"
     ]
    }
   ],
   "source": [
    "country_boot_reorder <- country_boot %>% left_join(df_country) %>% arrange(desc(avg_prog_avg)) %>%\n",
    "                            mutate(country = factor(country, levels=rev(country)))\n",
    "\n",
    "df_filter <- df %>% filter(country %in% valid_countries) %>% mutate(country = factor(country))\n",
    "\n",
    "df_top <- country_boot_reorder %>% head(12)\n",
    "top_countries <- df_top %>% select(country) %>% unlist() %>% as.character()\n",
    "df_bottom <- country_boot_reorder %>% tail(12)\n",
    "bottom_countries <- df_bottom %>% select(country) %>% unlist() %>% as.character()\n",
    "\n",
    "plot <- ggplot(mapping=aes(x=factor(country, levels=rev(top_countries)), y=programming_ability), data=df %>% filter(country %in% top_countries)) +\n",
    "            geom_violin(alpha=0.05, size=0.10, fill=\"#1a1a1a\", color=\"#1a1a1a\", scale=\"width\") +\n",
    "            geom_errorbar(data=df_top, mapping=aes(y=avg_prog, ymin=avg_prog_low_ci, ymax=avg_prog_high_ci) , show.legend=F, color=\"black\", size=0.25, width=0.25) +\n",
    "            geom_point(data=df_top, mapping=aes(x=country, y=avg_prog), stat=\"identity\", position=\"identity\", shape=21, fill=\"white\", color=\"blue\") +\n",
    "            fte_theme() +\n",
    "            coord_flip() +\n",
    "            scale_y_continuous(breaks=c(1:10), limits=c(1,10)) +\n",
    "            theme(axis.title.y=element_blank(), plot.title=element_text(hjust=1)) +\n",
    "            labs(title=\"Avg. Self-Rating Programming Ability By Developers in Country\", y=\"How would you rate your programming ability? (1-10)\")\n",
    "\n",
    "max_save(plot, \"so-programming-2\", \"Stack Overflow\")\n",
    "\n",
    "plot <- ggplot(mapping=aes(x=factor(country, levels=rev(bottom_countries)), y=programming_ability), data=df %>% filter(country %in% bottom_countries)) +\n",
    "            geom_violin(alpha=0.05, size=0.10, fill=\"#1a1a1a\", color=\"#1a1a1a\", scale=\"width\") +\n",
    "            geom_errorbar(data=df_bottom, mapping=aes(y=avg_prog, ymin=avg_prog_low_ci, ymax=avg_prog_high_ci) , show.legend=F, color=\"black\", size=0.25, width=0.25) +\n",
    "            geom_point(data=df_bottom, mapping=aes(x=country, y=avg_prog), stat=\"identity\", position=\"identity\", shape=21, fill=\"white\", color=\"red\") +\n",
    "            fte_theme() +\n",
    "            coord_flip() +\n",
    "            scale_y_continuous(breaks=c(1:10), limits=c(1,10)) +\n",
    "            theme(axis.title.y=element_blank(), plot.title=element_text(hjust=1)) +\n",
    "            labs(title=\"Avg. Self-Rating Programming Ability By Developers in Country\", y=\"How would you rate your programming ability? (1-10)\")\n",
    "\n",
    "max_save(plot, \"so-programming-3\", \"Stack Overflow\")"
   ]
  },
  {
   "cell_type": "markdown",
   "metadata": {},
   "source": [
    "![](so-programming-2.png)\n",
    "![](so-programming-3.png)"
   ]
  },
  {
   "cell_type": "markdown",
   "metadata": {},
   "source": [
    "## Age Range"
   ]
  },
  {
   "cell_type": "code",
   "execution_count": 15,
   "metadata": {
    "collapsed": false
   },
   "outputs": [
    {
     "name": "stdout",
     "output_type": "stream",
     "text": [
      "Source: local data frame [8 x 5]\n",
      "\n",
      "  age_range count med_prog avg_prog    sd_mean\n",
      "      (chr) (int)    (dbl)    (dbl)      (dbl)\n",
      "1      < 20  3174        6 6.076560 0.03486541\n",
      "2      > 60   332        8 7.734940 0.12836221\n",
      "3     20-24 10790        7 6.549398 0.01644985\n",
      "4     25-29 13318        7 6.977399 0.01404713\n",
      "5     30-34  8531        8 7.430547 0.01720699\n",
      "6     35-39  4876        8 7.668991 0.02361295\n",
      "7     40-49  4196        8 7.884414 0.02526847\n",
      "8     50-59  1415        8 8.153357 0.04670094\n"
     ]
    }
   ],
   "source": [
    "df_age <- df %>% filter(age_range != \"\", age_range!=\"Prefer not to disclose\") %>%\n",
    "                group_by(age_range) %>%\n",
    "                summarize(count=n(), med_prog = median(programming_ability), avg_prog=mean(programming_ability), sd_mean=sd(programming_ability)/sqrt(count))\n",
    "\n",
    "df_age %>% print(n=100)"
   ]
  },
  {
   "cell_type": "code",
   "execution_count": 16,
   "metadata": {
    "collapsed": false
   },
   "outputs": [
    {
     "name": "stdout",
     "output_type": "stream",
     "text": [
      "Source: local data frame [6 x 2]\n",
      "\n",
      "  group avg_prog\n",
      "  (chr)    (dbl)\n",
      "1  < 20 6.043355\n",
      "2  > 60 7.886076\n",
      "3 20-24 6.533184\n",
      "4 25-29 6.975621\n",
      "5 30-34 7.438327\n",
      "6 35-39 7.673682\n",
      "Source: local data frame [8 x 4]\n",
      "\n",
      "  age_range avg_prog_avg avg_prog_low_ci avg_prog_high_ci\n",
      "      (chr)        (dbl)           (dbl)            (dbl)\n",
      "1     50-59     8.152636        8.058154         8.244958\n",
      "2     40-49     7.884271        7.834394         7.933429\n",
      "3      > 60     7.735443        7.481473         7.981256\n",
      "4     35-39     7.668712        7.622759         7.714139\n",
      "5     30-34     7.430833        7.397121         7.464401\n",
      "6     25-29     6.977620        6.950400         7.004567\n",
      "7     20-24     6.549520        6.517351         6.580982\n",
      "8      < 20     6.076723        6.008668         6.145712\n"
     ]
    }
   ],
   "source": [
    "valid_ages <- df_age %>% select(age_range) %>% unlist() %>% as.character()\n",
    "\n",
    "age_boot <- bootstrap_df(df %>% filter(age_range %in% valid_ages), \"age_range\", n_bootstrap_resamples)\n",
    "age_boot %>% arrange(desc(avg_prog_avg)) %>% print(n=100)"
   ]
  },
  {
   "cell_type": "code",
   "execution_count": 40,
   "metadata": {
    "collapsed": false
   },
   "outputs": [
    {
     "name": "stderr",
     "output_type": "stream",
     "text": [
      "Joining by: \"age_range\"\n"
     ]
    }
   ],
   "source": [
    "age_levels <- c(\"> 60\", \"50-59\", \"40-49\", \"35-39\", \"30-34\", \"25-29\", \"20-24\", \"< 20\")\n",
    "\n",
    "age_boot_reorder <- age_boot %>% left_join(df_age) %>% mutate(age_range = factor(age_range, levels=age_levels))\n",
    "\n",
    "\n",
    "plot <- ggplot(mapping=aes(x=factor(age_range, levels=age_levels), y=programming_ability), data=df %>% filter(age_range %in% age_levels)) +\n",
    "            geom_violin(alpha=0.25, size=0.10, fill=\"#999999\", color=\"#999999\", scale=\"width\") +\n",
    "            geom_errorbar(data=age_boot_reorder, mapping=aes(y=avg_prog, ymin=avg_prog_low_ci, ymax=avg_prog_high_ci) , show.legend=F, color=\"black\", size=0.25, width=0.25) +\n",
    "            geom_point(data=age_boot_reorder, mapping=aes(x=age_range, y=avg_prog), stat=\"identity\", position=\"identity\", shape=21, fill=\"white\", color=\"#27ae60\") +\n",
    "            fte_theme() +\n",
    "            coord_flip() +\n",
    "            scale_y_continuous(breaks=c(1:10), limits=c(1,10)) +\n",
    "            theme(plot.title=element_text(hjust=1)) +\n",
    "            labs(title=\"Avg. Self-Rating of Programming Ability By Developers, by Age\", y=\"How would you rate your programming ability? (1-10)\", x=\"Age Range of Developer\")\n",
    "\n",
    "max_save(plot, \"so-programming-4\", \"Stack Overflow\")"
   ]
  },
  {
   "cell_type": "markdown",
   "metadata": {},
   "source": [
    "![](so-programming-4.png)"
   ]
  },
  {
   "cell_type": "markdown",
   "metadata": {},
   "source": [
    "## Experience"
   ]
  },
  {
   "cell_type": "code",
   "execution_count": 18,
   "metadata": {
    "collapsed": false,
    "scrolled": true
   },
   "outputs": [
    {
     "name": "stdout",
     "output_type": "stream",
     "text": [
      "Source: local data frame [5 x 5]\n",
      "\n",
      "  experience_range count med_prog avg_prog    sd_mean\n",
      "             (chr) (int)    (dbl)    (dbl)      (dbl)\n",
      "1      1 - 2 years  5809        6 5.929764 0.02252971\n",
      "2        11+ years 12347        8 8.129586 0.01309627\n",
      "3      2 - 5 years 15035        7 6.778118 0.01216742\n",
      "4     6 - 10 years 10836        8 7.498431 0.01335262\n",
      "5 Less than 1 year  2695        5 5.023006 0.04046226\n"
     ]
    }
   ],
   "source": [
    "df_experience <- df %>% filter(experience_range != \"\") %>%\n",
    "                group_by(experience_range) %>%\n",
    "                summarize(count=n(), med_prog = median(programming_ability), avg_prog=mean(programming_ability), sd_mean=sd(programming_ability)/sqrt(count))\n",
    "\n",
    "df_experience %>% print(n=100)"
   ]
  },
  {
   "cell_type": "code",
   "execution_count": 19,
   "metadata": {
    "collapsed": false
   },
   "outputs": [
    {
     "name": "stdout",
     "output_type": "stream",
     "text": [
      "Source: local data frame [6 x 2]\n",
      "\n",
      "             group avg_prog\n",
      "             (chr)    (dbl)\n",
      "1      1 - 2 years 5.941187\n",
      "2        11+ years 8.134357\n",
      "3      2 - 5 years 6.765884\n",
      "4     6 - 10 years 7.503650\n",
      "5 Less than 1 year 5.061329\n",
      "6      1 - 2 years 5.959089\n",
      "Source: local data frame [5 x 4]\n",
      "\n",
      "  experience_range avg_prog_avg avg_prog_low_ci avg_prog_high_ci\n",
      "             (chr)        (dbl)           (dbl)            (dbl)\n",
      "1        11+ years     8.129711        8.104345         8.155698\n",
      "2     6 - 10 years     7.498603        7.472770         7.524772\n",
      "3      2 - 5 years     6.778213        6.754138         6.801968\n",
      "4      1 - 2 years     5.929826        5.886444         5.973908\n",
      "5 Less than 1 year     5.023449        4.944462         5.102119\n"
     ]
    }
   ],
   "source": [
    "valid_experience <- df_experience %>% select(experience_range) %>% unlist() %>% as.character()\n",
    "\n",
    "experience_boot <- bootstrap_df(df %>% filter(experience_range %in% valid_experience), \"experience_range\", n_bootstrap_resamples)\n",
    "experience_boot %>% arrange(desc(avg_prog_avg)) %>% print(n=100)"
   ]
  },
  {
   "cell_type": "code",
   "execution_count": 39,
   "metadata": {
    "collapsed": false
   },
   "outputs": [
    {
     "name": "stderr",
     "output_type": "stream",
     "text": [
      "Joining by: \"experience_range\"\n"
     ]
    },
    {
     "name": "stdout",
     "output_type": "stream",
     "text": [
      "Source: local data frame [5 x 3]\n",
      "\n",
      "  experience_range avg_prog_avg avg_prog\n",
      "            (fctr)        (dbl)    (dbl)\n",
      "1      1 - 2 years     5.929826 5.929764\n",
      "2        11+ years     8.129711 8.129586\n",
      "3      2 - 5 years     6.778213 6.778118\n",
      "4     6 - 10 years     7.498603 7.498431\n",
      "5 Less than 1 year     5.023449 5.023006\n"
     ]
    }
   ],
   "source": [
    "experience_levels <- c(\"11+ years\", \"6 - 10 years\", \"2 - 5 years\",\"1 - 2 years\",\"Less than 1 year\")\n",
    "\n",
    "experience_boot_reorder <- experience_boot %>% left_join(df_experience) %>% mutate(experience_range = factor(experience_range, levels=experience_levels))\n",
    "experience_boot_reorder %>% select(experience_range, avg_prog_avg, avg_prog) %>% print(n=100)\n",
    "\n",
    "plot <- ggplot(mapping=aes(x=factor(experience_range, levels=experience_levels), y=programming_ability), data=df %>% filter(experience_range %in% experience_levels)) +\n",
    "            geom_violin(alpha=0.25, size=0.10, fill=\"#999999\", color=\"#999999\", scale=\"width\") +\n",
    "            geom_errorbar(data=experience_boot_reorder, mapping=aes(y=avg_prog, ymin=avg_prog_low_ci, ymax=avg_prog_high_ci) , show.legend=F, color=\"black\", size=0.25, width=0.25) +\n",
    "            geom_point(data=experience_boot_reorder, mapping=aes(x=experience_range, y=avg_prog), stat=\"identity\", position=\"identity\", shape=21, fill=\"white\", color=\"#16a085\") +\n",
    "            fte_theme() +\n",
    "            coord_flip() +\n",
    "            scale_y_continuous(breaks=c(1:10), limits=c(1,10)) +\n",
    "            theme(plot.title=element_text(hjust=1)) +\n",
    "            labs(title=\"Avg. Self-Rating of Programming Ability By Developers, by Experience\", y=\"How would you rate your programming ability? (1-10)\", x=\"Experience Range of Developer\")\n",
    "\n",
    "max_save(plot, \"so-programming-5\", \"Stack Overflow\")"
   ]
  },
  {
   "cell_type": "markdown",
   "metadata": {},
   "source": [
    "![](so-programming-5.png)"
   ]
  },
  {
   "cell_type": "markdown",
   "metadata": {},
   "source": [
    "## Salary Range"
   ]
  },
  {
   "cell_type": "code",
   "execution_count": 21,
   "metadata": {
    "collapsed": false,
    "scrolled": true
   },
   "outputs": [
    {
     "name": "stdout",
     "output_type": "stream",
     "text": [
      "Source: local data frame [22 x 5]\n",
      "\n",
      "          salary_range count med_prog avg_prog    sd_mean\n",
      "                 (chr) (int)    (dbl)    (dbl)      (dbl)\n",
      "1    $10,000 - $20,000   212        7 6.339623 0.14006386\n",
      "2  $100,000 - $110,000   953        8 7.844701 0.04625403\n",
      "3  $110,000 - $120,000   712        8 7.953652 0.05546706\n",
      "4  $120,000 - $130,000   618        8 7.972492 0.05902680\n",
      "5  $130,000 - $140,000   426        8 8.176056 0.06687880\n",
      "6  $140,000 - $150,000   367        8 8.147139 0.07167507\n",
      "7  $150,000 - $160,000   327        8 8.226300 0.08191198\n",
      "8  $160,000 - $170,000   192        8 7.973958 0.12166917\n",
      "9  $170,000 - $180,000   141        8 8.333333 0.10636609\n",
      "10 $180,000 - $190,000    91        8 8.516484 0.13565977\n",
      "11 $190,000 - $200,000    83        9 8.506024 0.13965818\n",
      "12   $20,000 - $30,000   231        7 6.398268 0.12952586\n",
      "13   $30,000 - $40,000   261        7 6.482759 0.11186417\n",
      "14   $40,000 - $50,000   396        7 6.398990 0.08681671\n",
      "15   $50,000 - $60,000   636        7 6.603774 0.06461492\n",
      "16   $60,000 - $70,000   857        7 6.744457 0.05328698\n",
      "17   $70,000 - $80,000  1012        7 7.136364 0.04850524\n",
      "18   $80,000 - $90,000   906        7 7.317881 0.05116489\n",
      "19  $90,000 - $100,000   875        8 7.597714 0.05013738\n",
      "20   Less than $10,000   682        6 6.041056 0.07853898\n",
      "21  More than $200,000   388        9 8.631443 0.07656726\n",
      "22          Unemployed   322        7 6.245342 0.10817918\n"
     ]
    }
   ],
   "source": [
    "df_salary <- df %>% filter(salary_range != \"\", salary_range!=\"Other (please specify)\",salary_range!=\"Rather not say\",country==\"United States\") %>%\n",
    "                group_by(salary_range) %>%\n",
    "                summarize(count=n(), med_prog = median(programming_ability), avg_prog=mean(programming_ability), sd_mean=sd(programming_ability)/sqrt(count))\n",
    "\n",
    "df_salary %>% print(n=100)"
   ]
  },
  {
   "cell_type": "code",
   "execution_count": 22,
   "metadata": {
    "collapsed": false
   },
   "outputs": [
    {
     "name": "stdout",
     "output_type": "stream",
     "text": [
      "Source: local data frame [6 x 2]\n",
      "\n",
      "                group avg_prog\n",
      "                (chr)    (dbl)\n",
      "1   $10,000 - $20,000 6.231884\n",
      "2 $100,000 - $110,000 7.805527\n",
      "3 $110,000 - $120,000 7.930473\n",
      "4 $120,000 - $130,000 7.857923\n",
      "5 $130,000 - $140,000 8.177616\n",
      "6 $140,000 - $150,000 8.080645\n",
      "Source: local data frame [22 x 4]\n",
      "\n",
      "          salary_range avg_prog_avg avg_prog_low_ci avg_prog_high_ci\n",
      "                 (chr)        (dbl)           (dbl)            (dbl)\n",
      "1   More than $200,000     8.631682        8.477919         8.781867\n",
      "2  $180,000 - $190,000     8.515714        8.243886         8.777807\n",
      "3  $190,000 - $200,000     8.504258        8.227273         8.777778\n",
      "4  $170,000 - $180,000     8.334688        8.125981         8.542263\n",
      "5  $150,000 - $160,000     8.227022        8.064602         8.389385\n",
      "6  $130,000 - $140,000     8.175449        8.041662         8.304450\n",
      "7  $140,000 - $150,000     8.146759        8.007552         8.287236\n",
      "8  $160,000 - $170,000     7.973996        7.732240         8.205267\n",
      "9  $120,000 - $130,000     7.972257        7.856910         8.085408\n",
      "10 $110,000 - $120,000     7.953826        7.846154         8.062680\n",
      "11 $100,000 - $110,000     7.844868        7.753462         7.935553\n",
      "12  $90,000 - $100,000     7.596933        7.494116         7.692852\n",
      "13   $80,000 - $90,000     7.317693        7.217820         7.416936\n",
      "14   $70,000 - $80,000     7.137166        7.041625         7.228797\n",
      "15   $60,000 - $70,000     6.743783        6.640697         6.850483\n",
      "16   $50,000 - $60,000     6.603853        6.478908         6.727953\n",
      "17   $30,000 - $40,000     6.484083        6.268285         6.700731\n",
      "18   $40,000 - $50,000     6.400508        6.230765         6.569622\n",
      "19   $20,000 - $30,000     6.397434        6.140907         6.644631\n",
      "20   $10,000 - $20,000     6.338275        6.063631         6.611354\n",
      "21          Unemployed     6.244007        6.030671         6.453988\n",
      "22   Less than $10,000     6.040487        5.884894         6.193411\n"
     ]
    }
   ],
   "source": [
    "valid_salary <- df_salary %>% select(salary_range) %>% unlist() %>% as.character()\n",
    "\n",
    "salary_boot <- bootstrap_df(df %>% filter(salary_range %in% valid_salary,country==\"United States\"), \"salary_range\", n_bootstrap_resamples)\n",
    "salary_boot %>% arrange(desc(avg_prog_avg)) %>% print(n=100)"
   ]
  },
  {
   "cell_type": "code",
   "execution_count": 38,
   "metadata": {
    "collapsed": false
   },
   "outputs": [
    {
     "name": "stderr",
     "output_type": "stream",
     "text": [
      "Joining by: \"salary_range\"\n"
     ]
    },
    {
     "name": "stdout",
     "output_type": "stream",
     "text": [
      "Source: local data frame [22 x 3]\n",
      "\n",
      "          salary_range avg_prog_avg avg_prog\n",
      "                (fctr)        (dbl)    (dbl)\n",
      "1    $10,000 - $20,000     6.338275 6.339623\n",
      "2  $100,000 - $110,000     7.844868 7.844701\n",
      "3  $110,000 - $120,000     7.953826 7.953652\n",
      "4  $120,000 - $130,000     7.972257 7.972492\n",
      "5  $130,000 - $140,000     8.175449 8.176056\n",
      "6  $140,000 - $150,000     8.146759 8.147139\n",
      "7  $150,000 - $160,000     8.227022 8.226300\n",
      "8  $160,000 - $170,000     7.973996 7.973958\n",
      "9  $170,000 - $180,000     8.334688 8.333333\n",
      "10 $180,000 - $190,000     8.515714 8.516484\n",
      "11 $190,000 - $200,000     8.504258 8.506024\n",
      "12   $20,000 - $30,000     6.397434 6.398268\n",
      "13   $30,000 - $40,000     6.484083 6.482759\n",
      "14   $40,000 - $50,000     6.400508 6.398990\n",
      "15   $50,000 - $60,000     6.603853 6.603774\n",
      "16   $60,000 - $70,000     6.743783 6.744457\n",
      "17   $70,000 - $80,000     7.137166 7.136364\n",
      "18   $80,000 - $90,000     7.317693 7.317881\n",
      "19  $90,000 - $100,000     7.596933 7.597714\n",
      "20   Less than $10,000     6.040487 6.041056\n",
      "21  More than $200,000     8.631682 8.631443\n",
      "22          Unemployed     6.244007 6.245342\n"
     ]
    }
   ],
   "source": [
    "salary_levels <- c(\"Unemployed\",\"Less than $10,000\",\"$10,000 - $20,000\",\"$20,000 - $30,000\",\"$30,000 - $40,000\",\n",
    "                  \"$40,000 - $50,000\",\"$50,000 - $60,000\",\"$60,000 - $70,000\",\"$70,000 - $80,000\",\n",
    "                  \"$80,000 - $90,000\", \"$90,000 - $100,000\",\"$100,000 - $110,000\",\"$110,000 - $120,000\",\n",
    "                  \"$120,000 - $130,000\",\"$130,000 - $140,000\",\"$140,000 - $150,000\",\"$150,000 - $160,000\",\n",
    "                  \"$160,000 - $170,000\",\"$170,000 - $180,000\",\"$180,000 - $190,000\",\"$190,000 - $200,000\",\n",
    "                  \"More than $200,000\")\n",
    "\n",
    "salary_boot_reorder <- salary_boot %>% left_join(df_salary) %>% mutate(salary_range = factor(salary_range, levels=rev(salary_levels)))\n",
    "salary_boot_reorder %>% select(salary_range, avg_prog_avg, avg_prog) %>% print(n=100)\n",
    "\n",
    "\n",
    "#plot <- ggplot(salary_boot_reorder, aes(x=salary_range, y=avg_prog)) +\n",
    "#            #geom_violin(mapping=aes(x=factor(salary_range, levels=rev(salary_levels)), y=programming_ability), data=df_salary, alpha=0.2) +\n",
    "#            geom_errorbar(mapping=aes(y=avg_prog, ymin=avg_prog_low_ci, ymax=avg_prog_high_ci), show.legend=F, color=\"black\", size=0.25, width=0.25) +\n",
    "#            geom_point(stat=\"identity\", position=\"identity\", shape=21, fill=\"white\", color=\"#2980b9\") +\n",
    "#            fte_theme() +\n",
    "#            coord_flip() +\n",
    "#            scale_y_continuous(breaks=c(1:10), limits=c(1,10)) +\n",
    "#            theme(plot.title=element_text(hjust=1, size=7)) +\n",
    "#            labs(title=\"Avg. Self-Rating of Programming Ability By U.S. Developers, by Salary\", y=\"How would you rate your programming ability? (1-10)\", x=\"Annual Gross Earnings or Salary (including bonus) in USD\")\n",
    "\n",
    "\n",
    "plot <- ggplot(mapping=aes(x=factor(salary_range, levels=rev(salary_levels)), y=programming_ability), data=df %>% filter(salary_range != \"\", salary_range!=\"Other (please specify)\",salary_range!=\"Rather not say\",country==\"United States\")) +\n",
    "            geom_violin(alpha=0.25, size=0.10, fill=\"#999999\", color=\"#999999\", scale=\"width\") +\n",
    "            geom_errorbar(data=salary_boot_reorder, mapping=aes(y=avg_prog, ymin=avg_prog_low_ci, ymax=avg_prog_high_ci) , show.legend=F, color=\"black\", size=0.25, width=0.25) +\n",
    "            geom_point(data=salary_boot_reorder, mapping=aes(x=salary_range, y=avg_prog), stat=\"identity\", position=\"identity\", shape=21, fill=\"white\", color=\"#2980b9\") +\n",
    "            fte_theme() +\n",
    "            coord_flip() +\n",
    "            scale_y_continuous(breaks=c(1:10), limits=c(1,10)) +\n",
    "            theme(plot.title=element_text(hjust=1, size=7)) +\n",
    "            labs(title=\"Avg. Self-Rating of Programming Ability By U.S. Developers, by Salary\", y=\"How would you rate your programming ability? (1-10)\", x=\"Annual Gross Earnings or Salary (including bonus) in USD\")\n",
    "\n",
    "\n",
    "\n",
    "max_save(plot, \"so-programming-6\", \"Stack Overflow\", h=6, tall=T)"
   ]
  },
  {
   "cell_type": "markdown",
   "metadata": {},
   "source": [
    "![](so-programming-6.png)"
   ]
  },
  {
   "cell_type": "markdown",
   "metadata": {},
   "source": [
    "## Employment Status"
   ]
  },
  {
   "cell_type": "code",
   "execution_count": 24,
   "metadata": {
    "collapsed": false,
    "scrolled": true
   },
   "outputs": [
    {
     "name": "stdout",
     "output_type": "stream",
     "text": [
      "Source: local data frame [7 x 5]\n",
      "\n",
      "       employment_status count med_prog avg_prog     sd_mean\n",
      "                   (chr) (int)    (dbl)    (dbl)       (dbl)\n",
      "1     Employed full-time 31784        7 7.286308 0.009102539\n",
      "2     Employed part-time  1663        7 6.707757 0.042268086\n",
      "3 Freelance / Contractor  3350        8 7.528358 0.028977709\n",
      "4          I'm a student  5959        6 6.000671 0.024219544\n",
      "5                Retired    99        8 6.535354 0.290831920\n",
      "6          Self-employed  2020        8 7.490594 0.040817385\n",
      "7             Unemployed   863        7 6.144844 0.077246424\n"
     ]
    }
   ],
   "source": [
    "df_employment <- df %>% filter(employment_status != \"\", employment_status != \"Other (please specify)\", employment_status!=\"Prefer not to disclose\") %>%\n",
    "                group_by(employment_status) %>%\n",
    "                summarize(count=n(), med_prog = median(programming_ability), avg_prog=mean(programming_ability), sd_mean=sd(programming_ability)/sqrt(count))\n",
    "\n",
    "df_employment %>% print(n=100)"
   ]
  },
  {
   "cell_type": "code",
   "execution_count": 25,
   "metadata": {
    "collapsed": false
   },
   "outputs": [
    {
     "name": "stdout",
     "output_type": "stream",
     "text": [
      "Source: local data frame [6 x 2]\n",
      "\n",
      "                   group avg_prog\n",
      "                   (chr)    (dbl)\n",
      "1     Employed full-time 7.289785\n",
      "2     Employed part-time 6.704167\n",
      "3 Freelance / Contractor 7.561908\n",
      "4          I'm a student 6.020259\n",
      "5                Retired 7.000000\n",
      "6          Self-employed 7.521141\n",
      "Source: local data frame [7 x 4]\n",
      "\n",
      "       employment_status avg_prog_avg avg_prog_low_ci avg_prog_high_ci\n",
      "                   (chr)        (dbl)           (dbl)            (dbl)\n",
      "1 Freelance / Contractor     7.528419        7.471376         7.585886\n",
      "2          Self-employed     7.490158        7.409607         7.570271\n",
      "3     Employed full-time     7.286362        7.268608         7.304149\n",
      "4     Employed part-time     6.707372        6.624557         6.790909\n",
      "5                Retired     6.532750        5.947351         7.087392\n",
      "6             Unemployed     6.145154        5.993555         6.298620\n",
      "7          I'm a student     6.000840        5.952915         6.048529\n"
     ]
    }
   ],
   "source": [
    "valid_employment <- df_employment %>% select(employment_status) %>% unlist() %>% as.character()\n",
    "\n",
    "employment_boot <- bootstrap_df(df %>% filter(employment_status %in% valid_employment), \"employment_status\", n_bootstrap_resamples)\n",
    "employment_boot %>% arrange(desc(avg_prog_avg)) %>% print(n=100)"
   ]
  },
  {
   "cell_type": "code",
   "execution_count": 43,
   "metadata": {
    "collapsed": false
   },
   "outputs": [
    {
     "name": "stderr",
     "output_type": "stream",
     "text": [
      "Joining by: \"employment_status\"\n"
     ]
    }
   ],
   "source": [
    "employment_boot_reorder <- employment_boot %>% left_join(df_employment) %>% arrange(avg_prog_avg) %>% mutate(employment_status = factor(employment_status, levels=rev(employment_status)))\n",
    "\n",
    "plot <- ggplot(mapping=aes(x=factor(employment_status, levels=employment_boot_reorder %>% select(employment_status) %>% unlist() %>% as.character() %>% rev()), y=programming_ability), data=df %>% filter(employment_status %in% valid_employment)) +\n",
    "            geom_violin(alpha=0.25, size=0.10, fill=\"#999999\", color=\"#999999\", scale=\"width\") +\n",
    "            geom_errorbar(data=employment_boot_reorder, mapping=aes(y=avg_prog, ymin=avg_prog_low_ci, ymax=avg_prog_high_ci) , show.legend=F, color=\"black\", size=0.25, width=0.25) +\n",
    "            geom_point(data=employment_boot_reorder, mapping=aes(x=employment_status, y=avg_prog), stat=\"identity\", position=\"identity\", shape=21, fill=\"white\", color=\"#8e44ad\") +\n",
    "            fte_theme() +\n",
    "            coord_flip() +\n",
    "            scale_y_continuous(breaks=c(1:10), limits=c(1,10)) +\n",
    "            theme(plot.title=element_text(hjust=1)) +\n",
    "            labs(title=\"Avg. Self-Rating of Programming Ability By Developer, by Employment\", y=\"How would you rate your programming ability? (1-10)\", x=\"Developer Employment Status\")\n",
    "\n",
    "max_save(plot, \"so-programming-7\", \"Stack Overflow\")"
   ]
  },
  {
   "cell_type": "markdown",
   "metadata": {},
   "source": [
    "![](so-programming-7.png)"
   ]
  },
  {
   "cell_type": "markdown",
   "metadata": {},
   "source": [
    "## Commit Frequency"
   ]
  },
  {
   "cell_type": "code",
   "execution_count": 27,
   "metadata": {
    "collapsed": false
   },
   "outputs": [
    {
     "name": "stdout",
     "output_type": "stream",
     "text": [
      "Source: local data frame [5 x 5]\n",
      "\n",
      "                 commit_frequency count med_prog avg_prog     sd_mean\n",
      "                            (chr) (int)    (dbl)    (dbl)       (dbl)\n",
      "1           A couple times a week  7799        7 6.939992 0.019545651\n",
      "2             A few times a month  2579        7 6.407522 0.037674093\n",
      "3 I never check-in or commit code  1453        5 5.261528 0.056297251\n",
      "4            Multiple times a day 25199        8 7.464860 0.009835023\n",
      "5                      Once a day  4678        7 6.946986 0.024583787\n"
     ]
    }
   ],
   "source": [
    "df_commit <- df %>% filter(commit_frequency != \"\", commit_frequency!=\"Other (please specify)\",\n",
    "                           commit_frequency!=\"I don't \\\"check-in or commit code\\\", but I do put code into production somewhat frequently\") %>%\n",
    "                group_by(commit_frequency) %>%\n",
    "                summarize(count=n(), med_prog = median(programming_ability), avg_prog=mean(programming_ability), sd_mean=sd(programming_ability)/sqrt(count))\n",
    "\n",
    "df_commit %>% print(n=100)"
   ]
  },
  {
   "cell_type": "code",
   "execution_count": 28,
   "metadata": {
    "collapsed": false
   },
   "outputs": [
    {
     "name": "stdout",
     "output_type": "stream",
     "text": [
      "Source: local data frame [6 x 2]\n",
      "\n",
      "                            group avg_prog\n",
      "                            (chr)    (dbl)\n",
      "1           A couple times a week 6.917740\n",
      "2             A few times a month 6.419508\n",
      "3 I never check-in or commit code 5.235254\n",
      "4            Multiple times a day 7.454169\n",
      "5                      Once a day 6.977478\n",
      "6           A couple times a week 6.984159\n",
      "Source: local data frame [5 x 4]\n",
      "\n",
      "                 commit_frequency avg_prog_avg avg_prog_low_ci avg_prog_high_ci\n",
      "                            (chr)        (dbl)           (dbl)            (dbl)\n",
      "1            Multiple times a day     7.464803        7.445692         7.484062\n",
      "2                      Once a day     6.947047        6.898092         6.994759\n",
      "3           A couple times a week     6.939854        6.900855         6.977817\n",
      "4             A few times a month     6.407295        6.334108         6.479281\n",
      "5 I never check-in or commit code     5.261386        5.151369         5.369986\n"
     ]
    }
   ],
   "source": [
    "valid_commit <- df_commit %>% select(commit_frequency) %>% unlist() %>% as.character()\n",
    "\n",
    "commit_boot <- bootstrap_df(df %>% filter(commit_frequency %in% valid_commit), \"commit_frequency\", n_bootstrap_resamples)\n",
    "commit_boot %>% arrange(desc(avg_prog_avg)) %>% print(n=100)"
   ]
  },
  {
   "cell_type": "code",
   "execution_count": 44,
   "metadata": {
    "collapsed": false
   },
   "outputs": [
    {
     "name": "stderr",
     "output_type": "stream",
     "text": [
      "Joining by: \"commit_frequency\"\n"
     ]
    }
   ],
   "source": [
    "commit_levels <- c(\"I never check-in or commit code\",\"A few times a month\",\"A couple times a week\",\"Once a day\",\"Multiple times a day\")\n",
    "\n",
    "commit_boot_reorder <- commit_boot %>% left_join(df_commit) %>% arrange(avg_prog_avg) %>% mutate(commit_frequency = factor(commit_frequency, levels=rev(commit_levels)))\n",
    "\n",
    "plot <- ggplot(mapping=aes(x=factor(commit_frequency , levels=rev(commit_levels)), y=programming_ability), data=df %>% filter(commit_frequency %in% commit_levels)) +\n",
    "            geom_violin(alpha=0.25, size=0.10, fill=\"#999999\", color=\"#999999\", scale=\"width\") +\n",
    "            geom_errorbar(data=commit_boot_reorder, mapping=aes(y=avg_prog, ymin=avg_prog_low_ci, ymax=avg_prog_high_ci) , show.legend=F, color=\"black\", size=0.25, width=0.25) +\n",
    "            geom_point(data=commit_boot_reorder, mapping=aes(x=commit_frequency, y=avg_prog), stat=\"identity\", position=\"identity\", shape=21, fill=\"white\", color=\"#e67e22\") +\n",
    "            fte_theme() +\n",
    "            coord_flip() +\n",
    "            scale_y_continuous(breaks=c(1:10), limits=c(1,10)) +\n",
    "            theme(plot.title=element_text(hjust=1)) +\n",
    "            labs(title=\"Avg. Self-Rating of Programming Ability By Dev, by Commit Activity\", y=\"How would you rate your programming ability? (1-10)\", x=\"Developer Commit Activity\")\n",
    "\n",
    "max_save(plot, \"so-programming-8\", \"Stack Overflow\", h=2.5)"
   ]
  },
  {
   "cell_type": "markdown",
   "metadata": {},
   "source": [
    "![](so-programming-8.png)"
   ]
  },
  {
   "cell_type": "markdown",
   "metadata": {},
   "source": [
    "## Unit Testing\n",
    "\n",
    "Not rendered as chart, but I wanted to check since I was curious. :P"
   ]
  },
  {
   "cell_type": "code",
   "execution_count": 30,
   "metadata": {
    "collapsed": false
   },
   "outputs": [
    {
     "name": "stdout",
     "output_type": "stream",
     "text": [
      "Source: local data frame [3 x 5]\n",
      "\n",
      "  unit_testing count med_prog avg_prog     sd_mean\n",
      "         (chr) (int)    (dbl)    (dbl)       (dbl)\n",
      "1 I don't know  9494        7 6.360544 0.019320003\n",
      "2           No  3484        7 7.424799 0.028137455\n",
      "3          Yes 28388        7 7.294068 0.009768627\n"
     ]
    }
   ],
   "source": [
    "df_unit <- df %>% filter(unit_testing != \"\", unit_testing!=\"Other (please specify)\") %>%\n",
    "                group_by(unit_testing) %>%\n",
    "                summarize(count=n(), med_prog = median(programming_ability), avg_prog=mean(programming_ability), sd_mean=sd(programming_ability)/sqrt(count))\n",
    "\n",
    "df_unit %>% print(n=100)"
   ]
  },
  {
   "cell_type": "markdown",
   "metadata": {},
   "source": [
    "## Visit Frequency"
   ]
  },
  {
   "cell_type": "code",
   "execution_count": 31,
   "metadata": {
    "collapsed": false,
    "scrolled": true
   },
   "outputs": [
    {
     "name": "stdout",
     "output_type": "stream",
     "text": [
      "Source: local data frame [5 x 5]\n",
      "\n",
      "       visit_frequency count med_prog avg_prog    sd_mean\n",
      "                 (chr) (int)    (dbl)    (dbl)      (dbl)\n",
      "1 Multiple times a day 24329        7 7.155617 0.01069518\n",
      "2           Once a day  9680        7 7.179236 0.01706293\n",
      "3         Once a month  1344        7 6.949405 0.05531368\n",
      "4          Once a week  6614        7 7.118990 0.02220377\n",
      "5          Very rarely  1339        7 7.016430 0.05831076\n"
     ]
    }
   ],
   "source": [
    "df_visit <- df %>% filter(visit_frequency != \"\", visit_frequency !=\"Other (please specify)\",\n",
    "                         visit_frequency!=\"I have never been on Stack Overflow. I just love taking surveys.\") %>%\n",
    "                group_by(visit_frequency) %>%\n",
    "                summarize(count=n(), med_prog = median(programming_ability), avg_prog=mean(programming_ability), sd_mean=sd(programming_ability)/sqrt(count))\n",
    "\n",
    "df_visit %>% print(n=100)"
   ]
  },
  {
   "cell_type": "code",
   "execution_count": 32,
   "metadata": {
    "collapsed": false
   },
   "outputs": [
    {
     "name": "stdout",
     "output_type": "stream",
     "text": [
      "Source: local data frame [6 x 2]\n",
      "\n",
      "                 group avg_prog\n",
      "                 (chr)    (dbl)\n",
      "1 Multiple times a day 7.136040\n",
      "2           Once a day 7.187761\n",
      "3         Once a month 6.944362\n",
      "4          Once a week 7.158846\n",
      "5          Very rarely 6.971897\n",
      "6 Multiple times a day 7.152782\n",
      "Source: local data frame [5 x 4]\n",
      "\n",
      "       visit_frequency avg_prog_avg avg_prog_low_ci avg_prog_high_ci\n",
      "                 (chr)        (dbl)           (dbl)            (dbl)\n",
      "1           Once a day     7.179041        7.145458         7.213111\n",
      "2 Multiple times a day     7.155666        7.134559         7.176768\n",
      "3          Once a week     7.119039        7.075062         7.163585\n",
      "4          Very rarely     7.017125        6.902238         7.130537\n",
      "5         Once a month     6.949426        6.842511         7.058340\n"
     ]
    }
   ],
   "source": [
    "valid_visit <- df_visit %>% select(visit_frequency) %>% unlist() %>% as.character()\n",
    "\n",
    "visit_boot <- bootstrap_df(df %>% filter(visit_frequency %in% valid_visit), \"visit_frequency\", n_bootstrap_resamples)\n",
    "visit_boot %>% arrange(desc(avg_prog_avg)) %>% print(n=100)"
   ]
  },
  {
   "cell_type": "code",
   "execution_count": 45,
   "metadata": {
    "collapsed": false
   },
   "outputs": [
    {
     "name": "stderr",
     "output_type": "stream",
     "text": [
      "Joining by: \"visit_frequency\"\n"
     ]
    }
   ],
   "source": [
    "visit_levels <- c(\"Very rarely\",\"Once a month\",\"Once a week\",\"Once a day\",\"Multiple times a day\")\n",
    "\n",
    "visit_boot_reorder <- visit_boot %>% left_join(df_visit) %>% arrange(avg_prog_avg) %>% mutate(visit_frequency = factor(visit_frequency, levels=rev(visit_levels)))\n",
    "\n",
    "plot <- ggplot(mapping=aes(x=factor(visit_frequency , levels=rev(visit_levels)), y=programming_ability), data=df %>% filter(visit_frequency %in% visit_levels)) +\n",
    "            geom_violin(alpha=0.25, size=0.10, fill=\"#999999\", color=\"#999999\", scale=\"width\") +\n",
    "            geom_errorbar(data=visit_boot_reorder, mapping=aes(y=avg_prog, ymin=avg_prog_low_ci, ymax=avg_prog_high_ci) , show.legend=F, color=\"black\", size=0.25, width=0.25) +\n",
    "            geom_point(data=visit_boot_reorder, mapping=aes(x=visit_frequency, y=avg_prog), stat=\"identity\", position=\"identity\", shape=21, fill=\"white\", color=\"#c0392b\") +\n",
    "            fte_theme() +\n",
    "            coord_flip() +\n",
    "            scale_y_continuous(breaks=c(1:10), limits=c(1,10)) +\n",
    "            theme(plot.title=element_text(hjust=1)) +\n",
    "            labs(title=\"Avg. Self-Rating of Programming Ability By S.O. Visit Frequency\", y=\"How would you rate your programming ability? (1-10)\", x=\"Stack Overflow Visit Frequency\")\n",
    "\n",
    "max_save(plot, \"so-programming-9\", \"Stack Overflow\", h=2.5)"
   ]
  },
  {
   "cell_type": "markdown",
   "metadata": {},
   "source": [
    "![](so-programming-9.png)"
   ]
  },
  {
   "cell_type": "markdown",
   "metadata": {},
   "source": [
    "## Star Wars vs. Star Trek"
   ]
  },
  {
   "cell_type": "code",
   "execution_count": 34,
   "metadata": {
    "collapsed": false,
    "scrolled": true
   },
   "outputs": [
    {
     "name": "stdout",
     "output_type": "stream",
     "text": [
      "Source: local data frame [3 x 5]\n",
      "\n",
      "  star_wars_vs_star_trek count med_prog avg_prog    sd_mean\n",
      "                   (chr) (int)    (dbl)    (dbl)      (dbl)\n",
      "1              Star Trek  7712        7 7.374741 0.01963603\n",
      "2              Star Wars 21340        7 7.028585 0.01168088\n",
      "3   Star Wars; Star Trek  3614        8 7.467349 0.02765136\n"
     ]
    }
   ],
   "source": [
    "df_wars <- df %>% filter(star_wars_vs_star_trek != \"\") %>%\n",
    "                group_by(star_wars_vs_star_trek) %>%\n",
    "                summarize(count=n(), med_prog = median(programming_ability), avg_prog=mean(programming_ability), sd_mean=sd(programming_ability)/sqrt(count))\n",
    "\n",
    "df_wars %>% print(n=100)"
   ]
  },
  {
   "cell_type": "markdown",
   "metadata": {},
   "source": [
    "Create a function to mass-print the grouping for all the qualitiative ranks, since it's faster than doing it manually."
   ]
  },
  {
   "cell_type": "code",
   "execution_count": 35,
   "metadata": {
    "collapsed": false,
    "scrolled": true
   },
   "outputs": [
    {
     "name": "stdout",
     "output_type": "stream",
     "text": [
      "\n",
      "Grouping on: star_wars_vs_star_trek \n",
      "\n",
      "Source: local data frame [3 x 5]\n",
      "\n",
      "                 group count med_prog avg_prog    sd_mean\n",
      "                 (chr) (int)    (dbl)    (dbl)      (dbl)\n",
      "1            Star Trek  7712        7 7.374741 0.01963603\n",
      "2            Star Wars 21340        7 7.028585 0.01168088\n",
      "3 Star Wars; Star Trek  3614        8 7.467349 0.02765136\n"
     ]
    },
    {
     "data": {
      "text/plain": [
       "[1] NA"
      ]
     },
     "execution_count": 35,
     "metadata": {},
     "output_type": "execute_result"
    }
   ],
   "source": [
    "print_categorical <- function(group_var) {\n",
    "    writeLines(paste(\"\\nGrouping on:\", group_var,\"\\n\"))\n",
    "    \n",
    "    df_temp <- df %>% select(group = matches(group_var), programming_ability) %>% filter(group != \"\") %>%\n",
    "                group_by(group) %>%\n",
    "                summarize(count=n(), med_prog = median(programming_ability), avg_prog=mean(programming_ability), sd_mean=sd(programming_ability)/sqrt(count))\n",
    "\n",
    "    df_temp %>% print(n=100)\n",
    "    \n",
    "    return(NA)\n",
    "}\n",
    "\n",
    "print_categorical(\"star_wars_vs_star_trek\")"
   ]
  },
  {
   "cell_type": "code",
   "execution_count": 36,
   "metadata": {
    "collapsed": false
   },
   "outputs": [
    {
     "name": "stdout",
     "output_type": "stream",
     "text": [
      " [1] \"agree_tech\"               \"agree_notice\"            \n",
      " [3] \"agree_problemsolving\"     \"agree_diversity\"         \n",
      " [5] \"agree_adblocker\"          \"agree_alcohol\"           \n",
      " [7] \"agree_loveboss\"           \"agree_nightcode\"         \n",
      " [9] \"agree_legacy\"             \"agree_mars\"              \n",
      "[11] \"important_variety\"        \"important_control\"       \n",
      "[13] \"important_sameend\"        \"important_newtech\"       \n",
      "[15] \"important_buildnew\"       \"important_buildexisting\" \n",
      "[17] \"important_promotion\"      \"important_companymission\"\n",
      "[19] \"important_wfh\"            \"important_ownoffice\"     \n",
      "\n",
      "Grouping on: agree_tech \n",
      "\n",
      "Source: local data frame [5 x 5]\n",
      "\n",
      "                group count med_prog avg_prog    sd_mean\n",
      "                (chr) (int)    (dbl)    (dbl)      (dbl)\n",
      "1    Agree completely 13641        8 7.421523 0.01463915\n",
      "2      Agree somewhat 18438        7 7.187764 0.01194230\n",
      "3 Disagree completely   659        7 6.760243 0.08359381\n",
      "4   Disagree somewhat  2238        7 6.912869 0.03610446\n",
      "5             Neutral  5375        7 6.668093 0.02520453\n",
      "\n",
      "Grouping on: agree_notice \n",
      "\n",
      "Source: local data frame [5 x 5]\n",
      "\n",
      "                group count med_prog avg_prog    sd_mean\n",
      "                (chr) (int)    (dbl)    (dbl)      (dbl)\n",
      "1    Agree completely 19218        7 7.396503 0.01230786\n",
      "2      Agree somewhat 15224        7 7.091369 0.01328747\n",
      "3 Disagree completely   240        7 6.641667 0.15165195\n",
      "4   Disagree somewhat  1010        7 6.493069 0.05892510\n",
      "5             Neutral  4734        7 6.697085 0.02568147\n",
      "\n",
      "Grouping on: agree_problemsolving \n",
      "\n",
      "Source: local data frame [5 x 5]\n",
      "\n",
      "                group count med_prog avg_prog     sd_mean\n",
      "                (chr) (int)    (dbl)    (dbl)       (dbl)\n",
      "1    Agree completely 28633        7 7.397339 0.009812126\n",
      "2      Agree somewhat  9825        7 6.712672 0.016764145\n",
      "3 Disagree completely   146        7 6.246575 0.213516267\n",
      "4   Disagree somewhat   244        6 5.856557 0.130514340\n",
      "5             Neutral  1490        6 6.195973 0.049793367\n",
      "\n",
      "Grouping on: agree_diversity \n",
      "\n",
      "Source: local data frame [5 x 5]\n",
      "\n",
      "                group count med_prog avg_prog    sd_mean\n",
      "                (chr) (int)    (dbl)    (dbl)      (dbl)\n",
      "1    Agree completely 16489        7 7.205834 0.01346221\n",
      "2      Agree somewhat 12813        7 7.144463 0.01474804\n",
      "3 Disagree completely  1003        7 7.316052 0.05995678\n",
      "4   Disagree somewhat  1571        7 7.140038 0.04537947\n",
      "5             Neutral  8319        7 7.155067 0.01889157\n",
      "\n",
      "Grouping on: agree_adblocker \n",
      "\n",
      "Source: local data frame [5 x 5]\n",
      "\n",
      "                group count med_prog avg_prog    sd_mean\n",
      "                (chr) (int)    (dbl)    (dbl)      (dbl)\n",
      "1    Agree completely 16347        7 7.110295 0.01333172\n",
      "2      Agree somewhat  8077        7 7.154018 0.01871646\n",
      "3 Disagree completely  6118        7 7.321674 0.02237206\n",
      "4   Disagree somewhat  3759        7 7.153232 0.02805393\n",
      "5             Neutral  6013        7 7.222352 0.02264870\n",
      "\n",
      "Grouping on: agree_alcohol \n",
      "\n",
      "Source: local data frame [5 x 5]\n",
      "\n",
      "                group count med_prog avg_prog    sd_mean\n",
      "                (chr) (int)    (dbl)    (dbl)      (dbl)\n",
      "1    Agree completely  2160        7 7.335648 0.03761902\n",
      "2      Agree somewhat  5888        7 7.238281 0.02173613\n",
      "3 Disagree completely 20860        7 7.124209 0.01223274\n",
      "4   Disagree somewhat  6543        7 7.191197 0.01988995\n",
      "5             Neutral  4924        7 7.198213 0.02400500\n",
      "\n",
      "Grouping on: agree_loveboss \n",
      "\n",
      "Source: local data frame [5 x 5]\n",
      "\n",
      "                group count med_prog avg_prog    sd_mean\n",
      "                (chr) (int)    (dbl)    (dbl)      (dbl)\n",
      "1    Agree completely  6458        7 7.351502 0.02161047\n",
      "2      Agree somewhat 12378        7 7.277347 0.01435069\n",
      "3 Disagree completely  1897        7 7.010016 0.04377693\n",
      "4   Disagree somewhat  2933        7 7.108080 0.03185576\n",
      "5             Neutral 16156        7 7.066910 0.01376467\n",
      "\n",
      "Grouping on: agree_nightcode \n",
      "\n",
      "Source: local data frame [5 x 5]\n",
      "\n",
      "                group count med_prog avg_prog    sd_mean\n",
      "                (chr) (int)    (dbl)    (dbl)      (dbl)\n",
      "1    Agree completely 10995        7 7.264211 0.01673946\n",
      "2      Agree somewhat 12614        7 7.158713 0.01493547\n",
      "3 Disagree completely  3660        7 7.137432 0.02929366\n",
      "4   Disagree somewhat  5259        7 7.147937 0.02326350\n",
      "5             Neutral  7763        7 7.097514 0.01944916\n",
      "\n",
      "Grouping on: agree_legacy \n",
      "\n",
      "Source: local data frame [5 x 5]\n",
      "\n",
      "                group count med_prog avg_prog    sd_mean\n",
      "                (chr) (int)    (dbl)    (dbl)      (dbl)\n",
      "1    Agree completely  6951        7 7.364552 0.01969149\n",
      "2      Agree somewhat 10970        7 7.330082 0.01513226\n",
      "3 Disagree completely  4257        7 6.906037 0.02952563\n",
      "4   Disagree somewhat  7014        7 7.203593 0.01974918\n",
      "5             Neutral 10889        7 6.994857 0.01724239\n",
      "\n",
      "Grouping on: agree_mars \n",
      "\n",
      "Source: local data frame [5 x 5]\n",
      "\n",
      "                group count med_prog avg_prog    sd_mean\n",
      "                (chr) (int)    (dbl)    (dbl)      (dbl)\n",
      "1    Agree completely  4697        7 6.963807 0.02689924\n",
      "2      Agree somewhat  4237        7 7.082134 0.02595347\n",
      "3 Disagree completely 20350        7 7.262162 0.01193883\n",
      "4   Disagree somewhat  6150        7 7.124228 0.02104533\n",
      "5             Neutral  4930        7 7.136308 0.02467769\n",
      "\n",
      "Grouping on: important_variety \n",
      "\n",
      "Source: local data frame [3 x 5]\n",
      "\n",
      "                       group count med_prog avg_prog    sd_mean\n",
      "                       (chr) (int)    (dbl)    (dbl)      (dbl)\n",
      "1    I don't care about this  7004        7 7.124929 0.02149753\n",
      "2 This is somewhat important 21049        7 7.155019 0.01158440\n",
      "3     This is very important 12276        7 7.237374 0.01557166\n",
      "\n",
      "Grouping on: important_control \n",
      "\n",
      "Source: local data frame [3 x 5]\n",
      "\n",
      "                       group count med_prog avg_prog    sd_mean\n",
      "                       (chr) (int)    (dbl)    (dbl)      (dbl)\n",
      "1    I don't care about this  3535        7 6.653465 0.03180175\n",
      "2 This is somewhat important 18899        7 7.016985 0.01221936\n",
      "3     This is very important 17839        8 7.446550 0.01251534\n",
      "\n",
      "Grouping on: important_sameend \n",
      "\n",
      "Source: local data frame [3 x 5]\n",
      "\n",
      "                       group count med_prog avg_prog    sd_mean\n",
      "                       (chr) (int)    (dbl)    (dbl)      (dbl)\n",
      "1    I don't care about this 19181        7 7.245086 0.01242276\n",
      "2 This is somewhat important 14934        7 7.152002 0.01380991\n",
      "3     This is very important  6118        7 7.015528 0.02250459\n",
      "\n",
      "Grouping on: important_newtech \n",
      "\n",
      "Source: local data frame [3 x 5]\n",
      "\n",
      "                       group count med_prog avg_prog    sd_mean\n",
      "                       (chr) (int)    (dbl)    (dbl)      (dbl)\n",
      "1    I don't care about this   811        7 7.117139 0.07234223\n",
      "2 This is somewhat important 11135        7 7.198922 0.01616158\n",
      "3     This is very important 28354        7 7.167948 0.01014438\n",
      "\n",
      "Grouping on: important_buildnew \n",
      "\n",
      "Source: local data frame [3 x 5]\n",
      "\n",
      "                       group count med_prog avg_prog    sd_mean\n",
      "                       (chr) (int)    (dbl)    (dbl)      (dbl)\n",
      "1    I don't care about this  1229        7 6.966640 0.05396790\n",
      "2 This is somewhat important 13063        7 7.163975 0.01462517\n",
      "3     This is very important 25953        7 7.191384 0.01072506\n",
      "\n",
      "Grouping on: important_buildexisting \n",
      "\n",
      "Source: local data frame [3 x 5]\n",
      "\n",
      "                       group count med_prog avg_prog    sd_mean\n",
      "                       (chr) (int)    (dbl)    (dbl)      (dbl)\n",
      "1    I don't care about this  3768        7 7.191348 0.02898279\n",
      "2 This is somewhat important 20289        7 7.190448 0.01172437\n",
      "3     This is very important 16224        7 7.153291 0.01377845\n",
      "\n",
      "Grouping on: important_promotion \n",
      "\n",
      "Source: local data frame [3 x 5]\n",
      "\n",
      "                       group count med_prog avg_prog    sd_mean\n",
      "                       (chr) (int)    (dbl)    (dbl)      (dbl)\n",
      "1    I don't care about this  8921        7 7.370250 0.01835523\n",
      "2 This is somewhat important 19095        7 7.156795 0.01209087\n",
      "3     This is very important 12172        7 7.062521 0.01593917\n",
      "\n",
      "Grouping on: important_companymission \n",
      "\n",
      "Source: local data frame [3 x 5]\n",
      "\n",
      "                       group count med_prog avg_prog    sd_mean\n",
      "                       (chr) (int)    (dbl)    (dbl)      (dbl)\n",
      "1    I don't care about this  7313        7 7.154656 0.02028089\n",
      "2 This is somewhat important 18049        7 7.181506 0.01241884\n",
      "3     This is very important 14877        7 7.178732 0.01445463\n",
      "\n",
      "Grouping on: important_wfh \n",
      "\n",
      "Source: local data frame [3 x 5]\n",
      "\n",
      "                       group count med_prog avg_prog    sd_mean\n",
      "                       (chr) (int)    (dbl)    (dbl)      (dbl)\n",
      "1    I don't care about this 11681        7 7.096738 0.01556003\n",
      "2 This is somewhat important 18555        7 7.182592 0.01237520\n",
      "3     This is very important 10039        7 7.256898 0.01798083\n",
      "\n",
      "Grouping on: important_ownoffice \n",
      "\n",
      "Source: local data frame [3 x 5]\n",
      "\n",
      "                       group count med_prog avg_prog    sd_mean\n",
      "                       (chr) (int)    (dbl)    (dbl)      (dbl)\n",
      "1    I don't care about this 19202        7 7.191647 0.01187324\n",
      "2 This is somewhat important 13941        7 7.128183 0.01463713\n",
      "3     This is very important  7098        7 7.228092 0.02213245\n"
     ]
    }
   ],
   "source": [
    "categoricals <- names(df)[45:64]\n",
    "print(categoricals)\n",
    "\n",
    "x<-lapply(categoricals, print_categorical)"
   ]
  },
  {
   "cell_type": "markdown",
   "metadata": {},
   "source": [
    "# The MIT License (MIT)\n",
    "\n",
    "Copyright (c) 2016 Max Woolf\n",
    "\n",
    "Permission is hereby granted, free of charge, to any person obtaining a copy of this software and associated documentation files (the \"Software\"), to deal in the Software without restriction, including without limitation the rights to use, copy, modify, merge, publish, distribute, sublicense, and/or sell copies of the Software, and to permit persons to whom the Software is furnished to do so, subject to the following conditions:\n",
    "\n",
    "The above copyright notice and this permission notice shall be included in all copies or substantial portions of the Software.\n",
    "\n",
    "THE SOFTWARE IS PROVIDED \"AS IS\", WITHOUT WARRANTY OF ANY KIND, EXPRESS OR IMPLIED, INCLUDING BUT NOT LIMITED TO THE WARRANTIES OF MERCHANTABILITY, FITNESS FOR A PARTICULAR PURPOSE AND NONINFRINGEMENT. IN NO EVENT SHALL THE AUTHORS OR COPYRIGHT HOLDERS BE LIABLE FOR ANY CLAIM, DAMAGES OR OTHER LIABILITY, WHETHER IN AN ACTION OF CONTRACT, TORT OR OTHERWISE, ARISING FROM, OUT OF OR IN CONNECTION WITH THE SOFTWARE OR THE USE OR OTHER DEALINGS IN THE SOFTWARE."
   ]
  }
 ],
 "metadata": {
  "kernelspec": {
   "display_name": "R",
   "language": "R",
   "name": "ir"
  },
  "language_info": {
   "codemirror_mode": "r",
   "file_extension": ".r",
   "mimetype": "text/x-r-source",
   "name": "R",
   "pygments_lexer": "r",
   "version": "3.3.0"
  }
 },
 "nbformat": 4,
 "nbformat_minor": 0
}
